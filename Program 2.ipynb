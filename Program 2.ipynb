{
 "cells": [
  {
   "attachments": {},
   "cell_type": "markdown",
   "metadata": {},
   "source": [
    "# Word Sense Disambiguation (WSD)\n",
    "### Sam Timmins, Alex Cerpa, Kas Taghavi"
   ]
  },
  {
   "cell_type": "code",
   "execution_count": 1,
   "metadata": {},
   "outputs": [],
   "source": [
    "import pandas as pd\n",
    "\n",
    "def parse_file_to_df(filename):\n",
    "    with open(filename) as f:\n",
    "        lines = f.readlines()\n",
    "        \n",
    "        data = []\n",
    "        for i, line in enumerate(lines):\n",
    "            if '1\\n' in lines[i]:\n",
    "                i = i + 1\n",
    "                while '2\\n' not in lines[i] and lines[i][0] != '\\n':\n",
    "                    temp = lines[i].replace('\\\"', '')\n",
    "                    temp = temp.replace('\\n', '')\n",
    "                    data.append((temp, 1))\n",
    "                    i = i + 1\n",
    "                last = i\n",
    "                \n",
    "        for i in range(last + 2, len(lines)):\n",
    "            temp = lines[i].replace('\\\"', '')\n",
    "            temp = temp.replace('\\n', '')\n",
    "            data.append((temp, 2))\n",
    "            \n",
    "        return pd.DataFrame(data, columns =['sentence', 'sense'])"
   ]
  },
  {
   "cell_type": "code",
   "execution_count": 2,
   "metadata": {},
   "outputs": [],
   "source": [
    "rubbish = parse_file_to_df('rubbish.txt')"
   ]
  },
  {
   "cell_type": "code",
   "execution_count": 3,
   "metadata": {},
   "outputs": [],
   "source": [
    "tissue = parse_file_to_df('tissue.txt')"
   ]
  },
  {
   "cell_type": "code",
   "execution_count": 4,
   "metadata": {},
   "outputs": [],
   "source": [
    "yarn = parse_file_to_df('yarn.txt')"
   ]
  },
  {
   "cell_type": "code",
   "execution_count": 5,
   "metadata": {},
   "outputs": [],
   "source": [
    "dfs = [rubbish, tissue, yarn]"
   ]
  },
  {
   "cell_type": "code",
   "execution_count": 6,
   "metadata": {},
   "outputs": [
    {
     "name": "stderr",
     "output_type": "stream",
     "text": [
      "/var/folders/74/slb24t3j6197703qqtgwj1cw0000gn/T/ipykernel_88184/3217394688.py:5: FutureWarning: The default value of regex will change from True to False in a future version.\n",
      "  df['sentence'] = df['sentence'].str.replace('[^\\w\\s]','')\n"
     ]
    }
   ],
   "source": [
    "from nltk.corpus import stopwords\n",
    "stop = stopwords.words('english')\n",
    "\n",
    "for df in dfs:\n",
    "    df['sentence'] = df['sentence'].str.replace('[^\\w\\s]','')\n",
    "    df['sentence'] = df['sentence'].str.lower()\n",
    "    df['sentence'] = df['sentence'].apply(lambda x: ' '.join([word for word in x.split() if word not in (stop)]))"
   ]
  },
  {
   "cell_type": "code",
   "execution_count": 7,
   "metadata": {},
   "outputs": [
    {
     "data": {
      "text/plain": [
       "24"
      ]
     },
     "execution_count": 7,
     "metadata": {},
     "output_type": "execute_result"
    }
   ],
   "source": [
    "rubbish_max_length = dfs[0]['sentence'].str.split().apply(len).max()\n",
    "rubbish_max_length"
   ]
  },
  {
   "cell_type": "code",
   "execution_count": 8,
   "metadata": {},
   "outputs": [
    {
     "data": {
      "text/plain": [
       "22"
      ]
     },
     "execution_count": 8,
     "metadata": {},
     "output_type": "execute_result"
    }
   ],
   "source": [
    "tissue_max_length = dfs[1]['sentence'].str.split().apply(len).max()\n",
    "tissue_max_length"
   ]
  },
  {
   "cell_type": "code",
   "execution_count": 9,
   "metadata": {},
   "outputs": [
    {
     "data": {
      "text/plain": [
       "25"
      ]
     },
     "execution_count": 9,
     "metadata": {},
     "output_type": "execute_result"
    }
   ],
   "source": [
    "yarn_max_length = dfs[2]['sentence'].str.split().apply(len).max()\n",
    "yarn_max_length"
   ]
  },
  {
   "cell_type": "code",
   "execution_count": 10,
   "metadata": {},
   "outputs": [
    {
     "name": "stdout",
     "output_type": "stream",
     "text": [
      "Found 543 unique tokens. Distilled to 543 top words.\n",
      "Shape of data tensor: (66, 24)\n",
      "23\n"
     ]
    }
   ],
   "source": [
    "from tensorflow.keras.preprocessing.text import Tokenizer\n",
    "from tensorflow.keras.preprocessing import sequence\n",
    "import numpy as np\n",
    "\n",
    "rubbish_X = dfs[0]['sentence'].to_numpy()\n",
    "\n",
    "NUM_TOP_WORDS = None\n",
    "\n",
    "rubbish_tokenizer = Tokenizer(num_words=rubbish_max_length)\n",
    "rubbish_tokenizer.fit_on_texts(rubbish_X)\n",
    "rubbish_sequences = rubbish_tokenizer.texts_to_sequences(rubbish_X)\n",
    "\n",
    "rubbish_word_index = rubbish_tokenizer.word_index\n",
    "NUM_TOP_WORDS = len(rubbish_word_index) if NUM_TOP_WORDS==None else NUM_TOP_WORDS\n",
    "rubbish_top_words = min((len(rubbish_word_index),NUM_TOP_WORDS))\n",
    "print('Found %s unique tokens. Distilled to %d top words.' % (len(rubbish_word_index), rubbish_top_words))\n",
    "\n",
    "rubbish_X = sequence.pad_sequences(rubbish_sequences, maxlen=rubbish_max_length)\n",
    "\n",
    "print('Shape of data tensor:', rubbish_X.shape)\n",
    "print(np.max(rubbish_X))"
   ]
  },
  {
   "cell_type": "code",
   "execution_count": 11,
   "metadata": {},
   "outputs": [
    {
     "name": "stdout",
     "output_type": "stream",
     "text": [
      "Found 400 unique tokens. Distilled to 400 top words.\n",
      "Shape of data tensor: (50, 22)\n",
      "21\n"
     ]
    }
   ],
   "source": [
    "tissue_X = dfs[1]['sentence'].to_numpy()\n",
    "\n",
    "NUM_TOP_WORDS = None\n",
    "\n",
    "tissue_tokenizer = Tokenizer(num_words=tissue_max_length)\n",
    "tissue_tokenizer.fit_on_texts(tissue_X)\n",
    "tissue_sequences = tissue_tokenizer.texts_to_sequences(tissue_X)\n",
    "\n",
    "tissue_word_index = tissue_tokenizer.word_index\n",
    "NUM_TOP_WORDS = len(tissue_word_index) if NUM_TOP_WORDS==None else NUM_TOP_WORDS\n",
    "tissue_top_words = min((len(tissue_word_index),NUM_TOP_WORDS))\n",
    "print('Found %s unique tokens. Distilled to %d top words.' % (len(tissue_word_index), tissue_top_words))\n",
    "\n",
    "tissue_X = sequence.pad_sequences(tissue_sequences, maxlen=tissue_max_length)\n",
    "\n",
    "print('Shape of data tensor:', tissue_X.shape)\n",
    "print(np.max(tissue_X))"
   ]
  },
  {
   "cell_type": "code",
   "execution_count": 12,
   "metadata": {},
   "outputs": [
    {
     "name": "stdout",
     "output_type": "stream",
     "text": [
      "Found 466 unique tokens. Distilled to 466 top words.\n",
      "Shape of data tensor: (50, 25)\n",
      "24\n"
     ]
    }
   ],
   "source": [
    "yarn_X = dfs[2]['sentence'].to_numpy()\n",
    "\n",
    "NUM_TOP_WORDS = None\n",
    "\n",
    "yarn_tokenizer = Tokenizer(num_words=yarn_max_length)\n",
    "yarn_tokenizer.fit_on_texts(yarn_X)\n",
    "yarn_sequences = yarn_tokenizer.texts_to_sequences(yarn_X)\n",
    "\n",
    "yarn_word_index = yarn_tokenizer.word_index\n",
    "NUM_TOP_WORDS = len(yarn_word_index) if NUM_TOP_WORDS==None else NUM_TOP_WORDS\n",
    "yarn_top_words = min((len(yarn_word_index),NUM_TOP_WORDS))\n",
    "print('Found %s unique tokens. Distilled to %d top words.' % (len(yarn_word_index), yarn_top_words))\n",
    "\n",
    "yarn_X = sequence.pad_sequences(yarn_sequences, maxlen=yarn_max_length)\n",
    "\n",
    "print('Shape of data tensor:', yarn_X.shape)\n",
    "print(np.max(yarn_X))"
   ]
  },
  {
   "cell_type": "code",
   "execution_count": 23,
   "metadata": {},
   "outputs": [
    {
     "name": "stdout",
     "output_type": "stream",
     "text": [
      "Rubbish:  59 7\n",
      "Tissue:  45 5\n",
      "Yarn:  45 5\n"
     ]
    }
   ],
   "source": [
    "from sklearn.model_selection import train_test_split\n",
    "from tensorflow import keras\n",
    "\n",
    "rubbish_X_train, rubbish_X_test, rubbish_y_train, rubbish_y_test = train_test_split(rubbish_X, dfs[0]['sense'].to_numpy(), test_size=0.1)\n",
    "tissue_X_train, tissue_X_test, tissue_y_train, tissue_y_test = train_test_split(tissue_X, dfs[1]['sense'].to_numpy(), test_size=0.1)\n",
    "yarn_X_train, yarn_X_test, yarn_y_train, yarn_y_test = train_test_split(yarn_X, dfs[2]['sense'].to_numpy(), test_size=0.1)\n",
    "\n",
    "print('Rubbish: ', len(rubbish_X_train), len(rubbish_X_test))\n",
    "print('Tissue: ', len(tissue_X_train), len(tissue_X_test))\n",
    "print('Yarn: ', len(yarn_X_train), len(yarn_X_test))"
   ]
  },
  {
   "cell_type": "code",
   "execution_count": null,
   "metadata": {},
   "outputs": [],
   "source": [
    "EMBED_SIZE = 50\n",
    "\n",
    "embeddings_index = {}\n",
    "f = open('glove.6B.50d.txt', encoding=\"utf8\")\n",
    "# save key/array pairs of the embeddings\n",
    "#  the key of the dictionary is the word, the array is the embedding\n",
    "for line in f:\n",
    "    values = line.split()\n",
    "    word = values[0]\n",
    "    coefs = np.asarray(values[1:], dtype='float32')\n",
    "    embeddings_index[word] = coefs\n",
    "f.close()\n",
    "\n",
    "print('Found %s word vectors.' % len(embeddings_index))\n",
    "\n",
    "# now fill in the matrix, using the ordering from the\n",
    "#  keras word tokenizer from before\n",
    "rubbish_found_words = 0\n",
    "rubbish_embedding_matrix = np.zeros((len(rubbish_word_index) + 1, EMBED_SIZE))\n",
    "for word, i in rubbish_word_index.items():\n",
    "    embedding_vector = embeddings_index.get(word)\n",
    "    if embedding_vector is not None:\n",
    "        # words not found in embedding index will be ALL-ZEROS\n",
    "        rubbish_embedding_matrix[i] = embedding_vector\n",
    "        rubbish_found_words = rubbish_found_words+1\n",
    "\n",
    "print(\"Embedding Shape:\",rubbish_embedding_matrix.shape, \"\\n\",\n",
    "      \"Total words found:\",rubbish_found_words, \"\\n\",\n",
    "      \"Percentage:\",100*rubbish_found_words/rubbish_embedding_matrix.shape[0])"
   ]
  }
 ],
 "metadata": {
  "kernelspec": {
   "display_name": "python3.9",
   "language": "python",
   "name": "python3"
  },
  "language_info": {
   "codemirror_mode": {
    "name": "ipython",
    "version": 3
   },
   "file_extension": ".py",
   "mimetype": "text/x-python",
   "name": "python",
   "nbconvert_exporter": "python",
   "pygments_lexer": "ipython3",
   "version": "3.9.16"
  },
  "orig_nbformat": 4
 },
 "nbformat": 4,
 "nbformat_minor": 2
}
